{
  "nbformat": 4,
  "nbformat_minor": 0,
  "metadata": {
    "colab": {
      "provenance": [],
      "authorship_tag": "ABX9TyMa3XP18s620ize60l5kSKd",
      "include_colab_link": true
    },
    "kernelspec": {
      "name": "python3",
      "display_name": "Python 3"
    },
    "language_info": {
      "name": "python"
    }
  },
  "cells": [
    {
      "cell_type": "markdown",
      "metadata": {
        "id": "view-in-github",
        "colab_type": "text"
      },
      "source": [
        "<a href=\"https://colab.research.google.com/github/lalonardoni/treinamento-ia-gen/blob/main/Parte3.ipynb\" target=\"_parent\"><img src=\"https://colab.research.google.com/assets/colab-badge.svg\" alt=\"Open In Colab\"/></a>"
      ]
    },
    {
      "cell_type": "markdown",
      "source": [
        "*Dependências*"
      ],
      "metadata": {
        "id": "Y9aRGvtDBoHo"
      }
    },
    {
      "cell_type": "markdown",
      "source": [
        "Fontes:\n",
        "https://python.langchain.com/v0.1/docs/use_cases/chatbots/quickstart/\n"
      ],
      "metadata": {
        "id": "MFvOAqhPQy6M"
      }
    },
    {
      "cell_type": "code",
      "source": [
        "import getpass\n",
        "import os"
      ],
      "metadata": {
        "id": "8_HhFqRjBIU5"
      },
      "execution_count": 1,
      "outputs": []
    },
    {
      "cell_type": "code",
      "source": [
        "if \"GOOGLE_API_KEY\" not in os.environ:\n",
        "    os.environ[\"GOOGLE_API_KEY\"] = getpass.getpass(\"Enter your Google AI API key: \")"
      ],
      "metadata": {
        "id": "trtesrkoFpaQ",
        "colab": {
          "base_uri": "https://localhost:8080/"
        },
        "outputId": "fb22e8b4-1a55-4198-d26a-776950b0751e"
      },
      "execution_count": 2,
      "outputs": [
        {
          "name": "stdout",
          "output_type": "stream",
          "text": [
            "Enter your Google AI API key: ··········\n"
          ]
        }
      ]
    },
    {
      "cell_type": "markdown",
      "source": [
        "Create LLM"
      ],
      "metadata": {
        "id": "X_whDe6VDJvI"
      }
    },
    {
      "cell_type": "code",
      "source": [
        "%pip install --upgrade --quiet langchain-google-genai langchain langchain-community langchain-chroma beautifulsoup4"
      ],
      "metadata": {
        "id": "ILpAFsshCJyb"
      },
      "execution_count": 3,
      "outputs": []
    },
    {
      "cell_type": "code",
      "source": [
        "from langchain_google_genai import ChatGoogleGenerativeAI"
      ],
      "metadata": {
        "id": "yCEjjpKFC9d3"
      },
      "execution_count": 4,
      "outputs": []
    },
    {
      "cell_type": "code",
      "source": [
        "chat = ChatGoogleGenerativeAI(\n",
        "    model=\"gemini-1.5-flash\",\n",
        "    temperature=0,\n",
        "    max_tokens=None,\n",
        "    timeout=None,\n",
        "    max_retries=2,\n",
        "    # other params...\n",
        ")"
      ],
      "metadata": {
        "id": "w6XcgmMsC-A5"
      },
      "execution_count": 5,
      "outputs": []
    },
    {
      "cell_type": "markdown",
      "source": [],
      "metadata": {
        "id": "oeDoYT5jZI2r"
      }
    },
    {
      "cell_type": "code",
      "source": [
        "from langchain_community.document_loaders import WebBaseLoader\n",
        "\n",
        "# loader = WebBaseLoader(\"https://docs.smith.langchain.com/overview\")\n",
        "loader = WebBaseLoader(\"https://www.cptec.inpe.br/previsao-tempo/pr/maringa\")\n",
        "\n",
        "data = loader.load()"
      ],
      "metadata": {
        "colab": {
          "base_uri": "https://localhost:8080/"
        },
        "id": "dY5tXLpoVlb0",
        "outputId": "1fd7816b-2803-4dad-9aa1-eab95207ae6e"
      },
      "execution_count": 6,
      "outputs": [
        {
          "output_type": "stream",
          "name": "stderr",
          "text": [
            "WARNING:langchain_community.utils.user_agent:USER_AGENT environment variable not set, consider setting it to identify your requests.\n"
          ]
        }
      ]
    },
    {
      "cell_type": "code",
      "source": [
        "# # Iterando sobre os documentos carregados para ver o conteúdo\n",
        "# for doc in data:\n",
        "#     print(doc.page_content)"
      ],
      "metadata": {
        "id": "rwG_22ObYoGB"
      },
      "execution_count": 7,
      "outputs": []
    },
    {
      "cell_type": "code",
      "source": [
        "from langchain_text_splitters import RecursiveCharacterTextSplitter\n",
        "\n",
        "text_splitter = RecursiveCharacterTextSplitter(chunk_size=500, chunk_overlap=200)\n",
        "all_splits = text_splitter.split_documents(data)"
      ],
      "metadata": {
        "id": "Mdhk27QeVnN1"
      },
      "execution_count": 8,
      "outputs": []
    },
    {
      "cell_type": "code",
      "source": [
        "from langchain_chroma import Chroma\n",
        "from langchain_google_genai import GoogleGenerativeAIEmbeddings\n",
        "\n",
        "embeddings = GoogleGenerativeAIEmbeddings(model=\"models/embedding-001\")\n",
        "\n",
        "vectorstore = Chroma.from_documents(documents=all_splits, embedding=embeddings)"
      ],
      "metadata": {
        "id": "FAb2fAVLVr1d"
      },
      "execution_count": 9,
      "outputs": []
    },
    {
      "cell_type": "code",
      "source": [
        "# k is the number of chunks to retrieve\n",
        "retriever = vectorstore.as_retriever(k=4)\n",
        "\n",
        "docs = retriever.invoke(\"o que é o evento da uem secomp?\")\n",
        "\n",
        "docs"
      ],
      "metadata": {
        "colab": {
          "base_uri": "https://localhost:8080/"
        },
        "id": "H82h5BKNVuVz",
        "outputId": "b509e2a9-77d4-44ae-97b9-dfe6f06933d1"
      },
      "execution_count": 10,
      "outputs": [
        {
          "output_type": "execute_result",
          "data": {
            "text/plain": [
              "[Document(metadata={'description': 'Centro de Previsão de Tempo e Estudos Climáticos - CPTEC/INPE', 'language': 'pt_BR', 'source': 'https://www.cptec.inpe.br/previsao-tempo/pr/maringa', 'title': 'Centro de Previsão de Tempo e Estudos Climáticos - INPE\\n                 - Maringá / PR\\n        '}, page_content='Sobre\\n\\n Sobre o CPTEC \\nQuem é quem\\n Pesq. e Desenvolvimento \\n Biblioteca \\nPós - Graduação\\nSupercomputação\\n Perg. Frequentes\\n Ouvidoria\\n Links Indicados\\n Serviços ao Usuário (pdf)\\n\\n\\n\\nProdutos\\n\\n Previsão de Tempo \\n Imagens de Satélites \\n Aeroportos \\nPrecipitação por Radar \\n Queimadas \\n Radiação UV\\n infoClima\\n El Niño e La Niña \\n Precipitação por Satélite \\n Plat. Coleta de Dados\\n Fenômenos Naturais \\n\\n\\n\\nPesquisa e Desenvolvimento\\n\\n Cenapad \\n ProVeg - FAPESP - (Parceria CPTEC/OBT) \\n Projeta'),\n",
              " Document(metadata={'description': 'Centro de Previsão de Tempo e Estudos Climáticos - CPTEC/INPE', 'language': 'pt_BR', 'source': 'https://www.cptec.inpe.br/previsao-tempo/pr/maringa', 'title': 'Centro de Previsão de Tempo e Estudos Climáticos - INPE\\n                 - Maringá / PR\\n        '}, page_content='Facebook\\nTwitter\\nYouTube\\nRSS\\n\\n\\n\\n\\n\\n\\n \\n \\n\\nTempo\\nSubsazonal\\nClima\\nPrevisão Numérica\\nSatélite\\nOndas\\nBacias\\nQualidade do Ar\\nPós Graduação\\n\\n\\n\\n\\n\\n\\n\\n\\n\\n\\n\\n\\n\\n\\nSobre\\n\\n Sobre o CPTEC \\nQuem é quem\\n Pesq. e Desenvolvimento \\n Biblioteca \\nPós - Graduação\\nSupercomputação\\n Perg. Frequentes\\n Ouvidoria\\n Links Indicados\\n Serviços ao Usuário (pdf)\\n\\n\\n\\nProdutos'),\n",
              " Document(metadata={'description': 'Centro de Previsão de Tempo e Estudos Climáticos - CPTEC/INPE', 'language': 'pt_BR', 'source': 'https://www.cptec.inpe.br/previsao-tempo/pr/maringa', 'title': 'Centro de Previsão de Tempo e Estudos Climáticos - INPE\\n                 - Maringá / PR\\n        '}, page_content='Voltar para o topo\\n\\n\\n\\n\\n\\n\\n\\nMenu\\nTempo\\nClima\\nPrevisão Numérica\\nSatélite\\nOndas\\nDados Observacionais\\nInstrumentação Meteorológica\\nQualidade do Ar\\n\\n\\n\\n\\nSobre\\nSobre o CPTEC\\nQuem é quem\\nPerguntas Frequentes\\nBiblioteca\\nOuvidoria\\nTrabalhe Conosco\\n\\n\\nPesquisa\\n\\nPós-Graduação\\n\\n\\n\\n\\nInfraestrutura e TI\\nSupercomputador\\n\\n\\n\\nDifusão do Conhecimento\\nCursos e Eventos\\nGlossário Técnico\\nVídeos Educativos\\nSoftwares Livres\\nBiblioteca\\n\\n\\n\\n\\nRedes Sociais\\nFacebook\\nYoutube\\nTwitter\\nInstagram\\nSoundCloud'),\n",
              " Document(metadata={'description': 'Centro de Previsão de Tempo e Estudos Climáticos - CPTEC/INPE', 'language': 'pt_BR', 'source': 'https://www.cptec.inpe.br/previsao-tempo/pr/maringa', 'title': 'Centro de Previsão de Tempo e Estudos Climáticos - INPE\\n                 - Maringá / PR\\n        '}, page_content='A geração e a divulgação de produtos operacionais obedecem critérios sistêmicos de controle de qualidade, padronização e periodicidade de disponibilização. Em nenhum caso o CPTEC/INPE pode ser responsabilizado por danos especiais, indiretos ou decorrentes, ou nenhum dano vinculado ao que provenha do uso destes produtos.')]"
            ]
          },
          "metadata": {},
          "execution_count": 10
        }
      ]
    },
    {
      "cell_type": "code",
      "source": [
        "from langchain.chains.combine_documents import create_stuff_documents_chain\n",
        "from langchain.memory import ChatMessageHistory\n",
        "from langchain_core.prompts import ChatPromptTemplate, MessagesPlaceholder\n",
        "\n",
        "question_answering_prompt = ChatPromptTemplate.from_messages(\n",
        "    [\n",
        "        (\n",
        "            \"system\",\n",
        "            \"Answer the user's questions based on the below context:\\n\\n{context}\",\n",
        "        ),\n",
        "        MessagesPlaceholder(variable_name=\"messages\"),\n",
        "    ]\n",
        ")\n",
        "\n",
        "document_chain = create_stuff_documents_chain(chat, question_answering_prompt)"
      ],
      "metadata": {
        "id": "4nZfAHm0WpI2"
      },
      "execution_count": 11,
      "outputs": []
    },
    {
      "cell_type": "code",
      "source": [
        "from langchain.memory import ChatMessageHistory\n",
        "\n",
        "demo_ephemeral_chat_history = ChatMessageHistory()\n",
        "\n",
        "demo_ephemeral_chat_history.add_user_message(\"qual a previsão do tempo para 27/10?\")\n",
        "\n",
        "document_chain.invoke(\n",
        "    {\n",
        "        \"messages\": demo_ephemeral_chat_history.messages,\n",
        "        \"context\": docs,\n",
        "    }\n",
        ")"
      ],
      "metadata": {
        "colab": {
          "base_uri": "https://localhost:8080/",
          "height": 70
        },
        "id": "d0RlFf9MWNnT",
        "outputId": "7361a25d-6c56-40a1-db2b-6e5957e354ea"
      },
      "execution_count": 14,
      "outputs": [
        {
          "output_type": "execute_result",
          "data": {
            "text/plain": [
              "'O texto fornecido não contém informações sobre a previsão do tempo para 27/10. Ele descreve a estrutura do site do CPTEC/INPE, mas não fornece previsões meteorológicas específicas. \\n\\nPara obter a previsão do tempo para 27/10, recomendo que você acesse o site do CPTEC/INPE e procure a seção de \"Previsão de Tempo\". \\n'"
            ],
            "application/vnd.google.colaboratory.intrinsic+json": {
              "type": "string"
            }
          },
          "metadata": {},
          "execution_count": 14
        }
      ]
    },
    {
      "cell_type": "code",
      "source": [
        "demo_ephemeral_chat_history.add_user_message(\"de que ano?\")\n",
        "\n",
        "document_chain.invoke(\n",
        "    {\n",
        "        \"messages\": demo_ephemeral_chat_history.messages,\n",
        "        \"context\": docs,\n",
        "    }\n",
        ")"
      ],
      "metadata": {
        "colab": {
          "base_uri": "https://localhost:8080/",
          "height": 53
        },
        "id": "Jmn5SN7sW4g6",
        "outputId": "59390570-4b98-4de6-ce04-94077d85530a"
      },
      "execution_count": 42,
      "outputs": [
        {
          "output_type": "execute_result",
          "data": {
            "text/plain": [
              "'O texto fala sobre a SECOMP 2023 e convida para a SECOMP 2024.  Para saber os dias específicos da SECOMP, você precisa especificar se quer saber os dias da SECOMP 2023 ou da SECOMP 2024. \\n'"
            ],
            "application/vnd.google.colaboratory.intrinsic+json": {
              "type": "string"
            }
          },
          "metadata": {},
          "execution_count": 42
        }
      ]
    },
    {
      "cell_type": "code",
      "source": [
        "demo_ephemeral_chat_history.add_user_message(\"qual é o cronograma do evento?\")\n",
        "\n",
        "document_chain.invoke(\n",
        "    {\n",
        "        \"messages\": demo_ephemeral_chat_history.messages,\n",
        "        \"context\": docs,\n",
        "    }\n",
        ")"
      ],
      "metadata": {
        "colab": {
          "base_uri": "https://localhost:8080/",
          "height": 36
        },
        "id": "9pt9Dh6eXQjf",
        "outputId": "5bb7ad1c-ba0a-4365-f30c-a0680b61913d"
      },
      "execution_count": 45,
      "outputs": [
        {
          "output_type": "execute_result",
          "data": {
            "text/plain": [
              "'O texto fornecido não contém informações sobre o cronograma do evento SECOMP. \\n'"
            ],
            "application/vnd.google.colaboratory.intrinsic+json": {
              "type": "string"
            }
          },
          "metadata": {},
          "execution_count": 45
        }
      ]
    },
    {
      "cell_type": "code",
      "source": [],
      "metadata": {
        "id": "FIiZqf8LXXBG"
      },
      "execution_count": 43,
      "outputs": []
    }
  ]
}